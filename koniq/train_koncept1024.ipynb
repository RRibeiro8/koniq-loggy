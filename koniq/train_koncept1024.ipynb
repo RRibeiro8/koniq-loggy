{
 "cells": [
  {
   "cell_type": "code",
   "execution_count": null,
   "metadata": {},
   "outputs": [],
   "source": [
    "import kutils\n",
    "from kutils import model_helper as mh\n",
    "from kutils import applications as apps\n",
    "from kutils import image_utils as iu\n",
    "from kutils import tensor_ops as ops\n",
    "from kutils import generic as gen\n",
    "import pandas as pd\n",
    "from keras import backend as K"
   ]
  },
  {
   "cell_type": "markdown",
   "metadata": {},
   "source": [
    "### KonCept1024 model"
   ]
  },
  {
   "cell_type": "code",
   "execution_count": null,
   "metadata": {},
   "outputs": [],
   "source": [
    "aux_root = '/mnt/home/research/data/'\n",
    "data_root = '/mnt/home/research/koniq/'\n",
    "ids = pd.read_csv(data_root + 'metadata/koniq10k_distributions_sets.csv')\n",
    "\n",
    "from keras.models import Model\n",
    "\n",
    "with K.tf.device('/cpu:0'):                    \n",
    "    # build scoring model\n",
    "    base_model, preprocess_fn = apps.get_model_imagenet(apps.InceptionResNetV2)\n",
    "    head = apps.fc_layers(base_model.output, name='fc', \n",
    "                          fc_sizes      = [2048, 1024, 256, 1], \n",
    "                          dropout_rates = [0.25, 0.25, 0.5, 0], \n",
    "                          batch_norm    = 2)    \n",
    "\n",
    "    model = Model(inputs = base_model.input, outputs = head)\n",
    "    print('[done]')"
   ]
  },
  {
   "cell_type": "code",
   "execution_count": null,
   "metadata": {},
   "outputs": [],
   "source": [
    "# parameter of the generator\n",
    "pre = lambda im: preprocess_fn(\n",
    "                    iu.ImageAugmenter(im, remap=False).\n",
    "                    crop((576,768)).\n",
    "                    fliplr().result)\n",
    "gen_params = dict(batch_size  = 50,\n",
    "                  data_path   = data_root+'images/1024x768/',\n",
    "                  process_fn  = pre, \n",
    "                  input_shape = (576,768,3),\n",
    "                  outputs     = ('MOS',))\n",
    "\n",
    "# Wrapper for the model, helps with training and testing\n",
    "helper = mh.ModelHelper(model, 'KonCept1024', ids, \n",
    "                     loss='MSE', metrics=[\"MAE\", ops.plcc_tf],\n",
    "                     monitor_metric = 'val_loss', \n",
    "                     monitor_mode   = 'min',\n",
    "                     multiproc   = True, workers = 8,\n",
    "                     logs_root   = aux_root + 'logs/koniq',\n",
    "                     models_root = aux_root + 'models/koniq',\n",
    "                     gen_params  = gen_params)\n",
    "helper.set_multi_gpu()\n",
    "print '[done]'"
   ]
  },
  {
   "cell_type": "code",
   "execution_count": null,
   "metadata": {},
   "outputs": [],
   "source": [
    "# check how the generator works\n",
    "# a,_ = helper.test_generator()\n",
    "# iu.view_stack(gen.mapmm(a[0]))"
   ]
  },
  {
   "cell_type": "markdown",
   "metadata": {},
   "source": [
    "#### Train model"
   ]
  },
  {
   "cell_type": "code",
   "execution_count": null,
   "metadata": {},
   "outputs": [],
   "source": [
    "helper.train(lr=1e-4, epochs=40)\n",
    "helper.load_model()\n",
    "helper.train(lr=1e-5, epochs=40)"
   ]
  },
  {
   "cell_type": "markdown",
   "metadata": {},
   "source": [
    "#### Test"
   ]
  },
  {
   "cell_type": "code",
   "execution_count": null,
   "metadata": {},
   "outputs": [],
   "source": [
    "if helper.load_model():\n",
    "    apps.test_rating_model(helper, \n",
    "                           groups=10);"
   ]
  }
 ],
 "metadata": {
  "kernelspec": {
   "display_name": "Python 2",
   "language": "python",
   "name": "python2"
  },
  "language_info": {
   "codemirror_mode": {
    "name": "ipython",
    "version": 2
   },
   "file_extension": ".py",
   "mimetype": "text/x-python",
   "name": "python",
   "nbconvert_exporter": "python",
   "pygments_lexer": "ipython2",
   "version": "2.7.12"
  }
 },
 "nbformat": 4,
 "nbformat_minor": 2
}
